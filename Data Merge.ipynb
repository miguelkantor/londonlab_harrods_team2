{
 "cells": [
  {
   "cell_type": "code",
   "execution_count": 97,
   "id": "e6815b0e-154b-47af-92a2-a3e4a6b306a3",
   "metadata": {},
   "outputs": [],
   "source": [
    "import pandas as pd\n",
    "\n",
    "# Only keep the target variables for the flights data and transaction data\n",
    "flights = pd.read_csv(\"flights_grouped_master_without_los.csv\", usecols=[\"FLIGHT_LEG_ARRIVAL_DATE\", \"TRIP_ORIGIN_COUNTRY\", \"flight_count\"])\n",
    "flights[\"FLIGHT_LEG_ARRIVAL_DATE\"] = pd.to_datetime(\n",
    "    flights[\"FLIGHT_LEG_ARRIVAL_DATE\"], \n",
    "    dayfirst=True, \n",
    "    format='mixed', \n",
    "    errors='coerce' \n",
    ")"
   ]
  },
  {
   "cell_type": "code",
   "execution_count": 98,
   "id": "8e079a0b-ad97-48cb-8423-96b50e1366a7",
   "metadata": {},
   "outputs": [],
   "source": [
    "# Aggregate number of flights by date and country\n",
    "\n",
    "flights_grouped = flights.groupby([\"FLIGHT_LEG_ARRIVAL_DATE\", \"TRIP_ORIGIN_COUNTRY\"])[\"flight_count\"].sum().reset_index()\n",
    "flights_grouped.rename(columns={\n",
    "    \"FLIGHT_LEG_ARRIVAL_DATE\": \"DATE\",\n",
    "    \"TRIP_ORIGIN_COUNTRY\": \"COUNTRY\",\n",
    "    \"flight_count\": \"TOTAL_FLIGHTS\"\n",
    "}, inplace=True)"
   ]
  },
  {
   "cell_type": "code",
   "execution_count": 101,
   "id": "e3e4a934-0097-4810-b29c-a0b5cbe9f668",
   "metadata": {},
   "outputs": [
    {
     "name": "stdout",
     "output_type": "stream",
     "text": [
      "        DATE COUNTRY  TOTAL_FLIGHTS\n",
      "0 2022-01-01      AE           2789\n",
      "1 2022-01-01      AF              2\n",
      "2 2022-01-01      AG            339\n",
      "3 2022-01-01      AL            666\n",
      "4 2022-01-01      AM              1\n"
     ]
    }
   ],
   "source": [
    "print(flights_grouped.head())"
   ]
  },
  {
   "cell_type": "code",
   "execution_count": 103,
   "id": "f3685745-af4b-4878-92c8-3817972b1e9e",
   "metadata": {},
   "outputs": [
    {
     "name": "stderr",
     "output_type": "stream",
     "text": [
      "/var/folders/j9/2kb4w8sd2qn_ry70r38f81th0000gn/T/ipykernel_26668/955813260.py:3: UserWarning: Parsing dates in %Y-%m-%d format when dayfirst=True was specified. Pass `dayfirst=False` or specify a format to silence this warning.\n",
      "  transactions[\"CAL_DAY\"] = pd.to_datetime(transactions[\"CAL_DAY\"], dayfirst=True)\n"
     ]
    }
   ],
   "source": [
    "# Only keep the target variables for the flights data and transaction data\n",
    "transactions = pd.read_csv(\"RAW_LBS_TEAM1_20250428.csv\", usecols=[\"CAL_DAY\", \"TRANX_TTL\"])\n",
    "transactions[\"CAL_DAY\"] = pd.to_datetime(transactions[\"CAL_DAY\"], dayfirst=True)\n"
   ]
  },
  {
   "cell_type": "code",
   "execution_count": 104,
   "id": "7db25a91-9c58-4f5a-bcd2-6710349b8f99",
   "metadata": {},
   "outputs": [],
   "source": [
    "# Aggregate number of transactions by date and country\n",
    "transactions_grouped = transactions.groupby([\"CAL_DAY\"])[\"TRANX_TTL\"].sum().reset_index()\n",
    "transactions_grouped.rename(columns={\n",
    "    \"CAL_DAY\": \"DATE\",\n",
    "    \"TRANX_TTL\": \"TOTAL_TRANSACTIONS\"\n",
    "}, inplace=True)"
   ]
  },
  {
   "cell_type": "code",
   "execution_count": 105,
   "id": "856bc4ef-39c3-4c5d-a4cc-8631caab076b",
   "metadata": {},
   "outputs": [
    {
     "name": "stdout",
     "output_type": "stream",
     "text": [
      "        DATE  TOTAL_TRANSACTIONS\n",
      "0 2022-01-30                5914\n",
      "1 2022-01-31                6318\n",
      "2 2022-02-01                5632\n",
      "3 2022-02-02                6073\n",
      "4 2022-02-03                6818\n"
     ]
    }
   ],
   "source": [
    "print(transactions_grouped.head())"
   ]
  },
  {
   "cell_type": "code",
   "execution_count": 106,
   "id": "7248ef67-b4f1-45b7-a76a-d7382ce531a0",
   "metadata": {},
   "outputs": [
    {
     "name": "stdout",
     "output_type": "stream",
     "text": [
      "        DATE  TOTAL_TRANSACTIONS COUNTRY  TOTAL_FLIGHTS\n",
      "0 2022-01-30                5914      AE           2710\n",
      "1 2022-01-30                5914      AG            169\n",
      "2 2022-01-30                5914      AL            912\n",
      "3 2022-01-30                5914      AM              9\n",
      "4 2022-01-30                5914      AO             17\n"
     ]
    }
   ],
   "source": [
    "# Merge the transaction and flight data by date\n",
    "merged_by_date = pd.merge(transactions_grouped, flights_grouped, on=\"DATE\", how=\"inner\")\n",
    "\n",
    "print(merged_by_date.head())"
   ]
  },
  {
   "cell_type": "code",
   "execution_count": 107,
   "id": "d1750a41-da5c-4676-9803-cf834e3e9fee",
   "metadata": {},
   "outputs": [
    {
     "name": "stdout",
     "output_type": "stream",
     "text": [
      "['AE' 'AG' 'AL' 'AM' 'AO' 'AR' 'AT' 'AU' 'AW' 'AZ' 'BB' 'BD' 'BE' 'BG'\n",
      " 'BH' 'BJ' 'BL' 'BM' 'BR' 'BS' 'BW' 'BY' 'BZ' 'CA' 'CD' 'CH' 'CI' 'CL'\n",
      " 'CM' 'CN' 'CO' 'CR' 'CU' 'CV' 'CW' 'CY' 'CZ' 'DE' 'DJ' 'DK' 'DO' 'DZ'\n",
      " 'EC' 'EE' 'EG' 'ES' 'ET' 'FI' 'FJ' 'FR' 'GB' 'GD' 'GE' 'GH' 'GI' 'GM'\n",
      " 'GN' 'GP' 'GR' 'HK' 'HN' 'HR' 'HU' 'ID' 'IE' 'IL' 'IN' 'IQ' 'IR' 'IS'\n",
      " 'IT' 'JM' 'JO' 'JP' 'KE' 'KG' 'KH' 'KN' 'KR' 'KW' 'KY' 'KZ' 'LB' 'LC'\n",
      " 'LK' 'LT' 'LU' 'LV' 'MA' 'MD' 'MG' 'MK' 'MM' 'MN' 'MQ' 'MT' 'MU' 'MV'\n",
      " 'MW' 'MX' 'MY' 'NG' 'NL' 'NO' 'NP' 'NZ' 'OM' 'PA' 'PE' 'PH' 'PK' 'PL'\n",
      " 'PR' 'PT' 'PY' 'QA' 'RE' 'RO' 'RS' 'RU' 'RW' 'SA' 'SC' 'SD' 'SE' 'SG'\n",
      " 'SI' 'SK' 'SL' 'SN' 'SO' 'SS' 'ST' 'SV' 'SX' 'TC' 'TD' 'TH' 'TN' 'TR'\n",
      " 'TT' 'TW' 'TZ' 'UA' 'UG' 'US' 'UY' 'UZ' 'VE' 'VG' 'VN' 'ZA' 'ZM' 'ZW'\n",
      " 'BA' 'BN' 'DM' 'GU' 'ME' 'ML' 'MZ' 'NI' 'PF' 'TG' 'VC' 'VI' 'AF' 'BQ'\n",
      " 'CF' 'GT' 'GY' 'LR' 'NE' 'BF' 'ER' 'GA' 'GW' 'LS' 'NC' 'BI' 'CG' 'MO'\n",
      " 'PG' 'FO' 'TJ' 'AI' 'BO' 'GQ' 'MR' 'SR' 'KM' 'HT' 'GF' 'MS' 'TL' 'LA'\n",
      " 'CK' 'SZ' 'MP' 'LY' 'WS' 'TO' 'GL' 'MF' 'SB' 'VU' 'FK' 'TM' 'SH' 'YT'\n",
      " 'PW' 'KI' 'FM' 'NF' 'TV' 'MC' 'NU' 'SY']\n"
     ]
    }
   ],
   "source": [
    "# Check the country list\n",
    "unique_countries = merged_by_date[\"COUNTRY\"].unique()\n",
    "print(unique_countries)"
   ]
  },
  {
   "cell_type": "code",
   "execution_count": 108,
   "id": "37a82a52-3287-478a-883f-5204c80767eb",
   "metadata": {},
   "outputs": [],
   "source": [
    "def classify_country(code):\n",
    "    if code in ['AE', 'SA', 'KW', 'QA', 'OM', 'BH']:\n",
    "        return 'GCC'\n",
    "    elif code in ['CN', 'HK', 'TW', 'MO']:\n",
    "        return 'Greater China'\n",
    "    elif code in ['AO', 'BJ', 'BW', 'CD', 'CI', 'CM', 'DJ', 'DZ', 'EG', 'ET', 'GA', 'GH', 'GM', 'GN',\n",
    "                  'GQ', 'GW', 'KE', 'LR', 'LS', 'MG', 'ML', 'MR', 'MU', 'MW', 'MZ', 'NA', 'NE', 'NG',\n",
    "                  'RE', 'RW', 'SC', 'SD', 'SH', 'SL', 'SN', 'SO', 'SS', 'ST', 'SZ', 'TD', 'TG', 'TN',\n",
    "                  'TZ', 'UG', 'YT', 'ZA', 'ZM', 'ZW', 'CF', 'BI', 'CG', 'KM', 'ER']:\n",
    "        return 'Africa'\n",
    "    elif code in ['AF', 'AM', 'AZ', 'BD', 'BN', 'BT', 'GE', 'ID', 'IL', 'IN', 'IQ', 'IR', 'JO', 'JP',\n",
    "                  'KG', 'KH', 'KP', 'KR', 'KZ', 'LA', 'LB', 'LK', 'MM', 'MN', 'MV', 'MY', 'NP', 'PH',\n",
    "                  'PK', 'PS', 'SG', 'SY', 'TH', 'TJ', 'TL', 'TM', 'TR', 'UZ', 'VN', 'YE']:\n",
    "        return 'Asia'\n",
    "    elif code in ['AL', 'AT', 'BA', 'BE', 'BG', 'BY', 'CH', 'CY', 'CZ', 'DE', 'DK', 'EE', 'ES', 'FI',\n",
    "                  'FR', 'GB', 'GR', 'HR', 'HU', 'IE', 'IS', 'IT', 'LT', 'LU', 'LV', 'MD', 'ME', 'MK',\n",
    "                  'MT', 'NL', 'NO', 'PL', 'PT', 'RO', 'RS', 'RU', 'SE', 'SI', 'SK', 'UA']:\n",
    "        return 'Europe'\n",
    "    elif code in ['AG', 'AI', 'BB', 'BM', 'BS', 'BZ', 'CA', 'CR', 'CU', 'DM', 'DO', 'GD', 'GT', 'HN',\n",
    "                  'HT', 'JM', 'KN', 'LC', 'MX', 'NI', 'PA', 'PR', 'SV', 'SX', 'TC', 'TT', 'US', 'VC',\n",
    "                  'VG', 'VI']:\n",
    "        return 'North America'\n",
    "    elif code in ['AR', 'BO', 'BR', 'CL', 'CO', 'EC', 'GY', 'PE', 'PY', 'SR', 'UY', 'VE', 'GF']:\n",
    "        return 'South America'\n",
    "    elif code in ['AS', 'AU', 'CK', 'FJ', 'FM', 'GU', 'KI', 'MH', 'MP', 'NC', 'NF', 'NR', 'NU', 'NZ',\n",
    "                  'PF', 'PG', 'PN', 'SB', 'TK', 'TL', 'TO', 'TV', 'VU', 'WS']:\n",
    "        return 'Oceania'\n",
    "    else:\n",
    "        return 'Other'"
   ]
  },
  {
   "cell_type": "code",
   "execution_count": 109,
   "id": "308b814c-5f4b-43db-8ca5-2bf74d3e6eee",
   "metadata": {},
   "outputs": [],
   "source": [
    "merged_by_date[\"REGION_GROUP\"] = merged_by_date[\"COUNTRY\"].apply(classify_country)"
   ]
  },
  {
   "cell_type": "code",
   "execution_count": 110,
   "id": "49f5d1fe-a974-499f-9694-eccce8ea1af2",
   "metadata": {},
   "outputs": [
    {
     "name": "stdout",
     "output_type": "stream",
     "text": [
      "        DATE  TOTAL_TRANSACTIONS COUNTRY  TOTAL_FLIGHTS   REGION_GROUP\n",
      "0 2022-01-30                5914      AE           2710            GCC\n",
      "1 2022-01-30                5914      AG            169  North America\n",
      "2 2022-01-30                5914      AL            912         Europe\n",
      "3 2022-01-30                5914      AM              9           Asia\n",
      "4 2022-01-30                5914      AO             17         Africa\n"
     ]
    }
   ],
   "source": [
    "print(merged_by_date.head())"
   ]
  },
  {
   "cell_type": "code",
   "execution_count": 111,
   "id": "d0cc8ff9-e3ed-4cf9-9b60-c2d0bb0d50e5",
   "metadata": {},
   "outputs": [
    {
     "name": "stdout",
     "output_type": "stream",
     "text": [
      "  REGION_GROUP       DATE  TOTAL_TRANSACTIONS  TOTAL_FLIGHTS\n",
      "0       Africa 2022-01-30              201076           4815\n",
      "1       Africa 2022-01-31              214812           3144\n",
      "2       Africa 2022-02-01              197120           4808\n",
      "3       Africa 2022-02-02              212555           4616\n",
      "4       Africa 2022-02-03              252266           5126\n"
     ]
    }
   ],
   "source": [
    "region_summary = merged_by_date.groupby([\"REGION_GROUP\", \"DATE\"])[[\"TOTAL_TRANSACTIONS\", \"TOTAL_FLIGHTS\"]].sum().reset_index()\n",
    "print(region_summary.head())"
   ]
  },
  {
   "cell_type": "code",
   "execution_count": 112,
   "id": "55513daa-adb0-4947-88b4-793f734e143b",
   "metadata": {},
   "outputs": [
    {
     "name": "stdout",
     "output_type": "stream",
     "text": [
      "The correlation coefficient between daily trading and flights in the UK is: -0.0014\n"
     ]
    }
   ],
   "source": [
    "# Check the relevance of each country on a daily basis (e.g. UK only)\n",
    "country_daily = merged_by_date[merged_by_date[\"COUNTRY\"] == \"GB\"]\n",
    "\n",
    "correlation = country_daily[\"TOTAL_TRANSACTIONS\"].corr(country_daily[\"TOTAL_FLIGHTS\"])\n",
    "print(\"The correlation coefficient between daily trading and flights in the UK is:\", round(correlation, 4))"
   ]
  },
  {
   "cell_type": "code",
   "execution_count": 114,
   "id": "109f6215-d5bd-484b-806a-5b874968d0b1",
   "metadata": {},
   "outputs": [
    {
     "name": "stdout",
     "output_type": "stream",
     "text": [
      "The correlation coefficient between daily trading and flights in Greater China the  is: 0.2411\n"
     ]
    }
   ],
   "source": [
    "# Check the relevance of each region on a daily basis (e.g. Greater China only)\n",
    "country_daily = region_summary[region_summary[\"REGION_GROUP\"] == \"Greater China\"]\n",
    "\n",
    "correlation = country_daily[\"TOTAL_TRANSACTIONS\"].corr(region_summary[\"TOTAL_FLIGHTS\"])\n",
    "print(\"The correlation coefficient between daily trading and flights in Greater China the  is:\", round(correlation, 4))"
   ]
  },
  {
   "cell_type": "code",
   "execution_count": null,
   "id": "1b78b5f2-d3aa-4f91-bd51-d9caefed1d7a",
   "metadata": {},
   "outputs": [],
   "source": []
  }
 ],
 "metadata": {
  "kernelspec": {
   "display_name": "Python 3 (ipykernel)",
   "language": "python",
   "name": "python3"
  },
  "language_info": {
   "codemirror_mode": {
    "name": "ipython",
    "version": 3
   },
   "file_extension": ".py",
   "mimetype": "text/x-python",
   "name": "python",
   "nbconvert_exporter": "python",
   "pygments_lexer": "ipython3",
   "version": "3.12.2"
  }
 },
 "nbformat": 4,
 "nbformat_minor": 5
}
